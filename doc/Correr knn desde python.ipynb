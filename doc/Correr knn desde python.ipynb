{
 "cells": [
  {
   "cell_type": "code",
   "execution_count": 11,
   "metadata": {},
   "outputs": [],
   "source": [
    "import os\n",
    "\n",
    "PATH_KNN = \"../knn \"\n",
    "PATH_TRAINING = \"../data/train.csv \"\n",
    "PATH_TEST = \"../data/test.csv \"\n",
    "PATH_TARGET = \"preds \"\n",
    "\n",
    "def run_knn_with(k, alpha, target):\n",
    "    os.system(\"K={} ALPHA={} {} {} <{} >{}\".format(k, alpha, PATH_KNN, PATH_TRAINING, PATH_TEST, target))\n",
    "              \n",
    "\n",
    "run_knn_with(7, 5, \"pepe\")\n",
    "\n"
   ]
  }
 ],
 "metadata": {
  "kernelspec": {
   "display_name": "Python 3",
   "language": "python",
   "name": "python3"
  },
  "language_info": {
   "codemirror_mode": {
    "name": "ipython",
    "version": 3
   },
   "file_extension": ".py",
   "mimetype": "text/x-python",
   "name": "python",
   "nbconvert_exporter": "python",
   "pygments_lexer": "ipython3",
   "version": "3.5.2"
  }
 },
 "nbformat": 4,
 "nbformat_minor": 2
}
