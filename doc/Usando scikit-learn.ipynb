{
 "cells": [
  {
   "cell_type": "code",
   "execution_count": 1,
   "metadata": {
    "collapsed": true
   },
   "outputs": [],
   "source": [
    "import os\n",
    "import sys\n",
    "import numpy as np\n",
    "from matplotlib import pyplot as plt\n",
    "%matplotlib inline\n",
    "\n",
    "sys.path.append('../py')\n",
    "from knn_classifier import KnnClassifier\n",
    "\n",
    "# Include path to binaries on PATH variable\n",
    "bin_path = os.path.join(os.path.dirname('../'))\n",
    "os.environ['PATH'] = \"{}:{}\".format(bin_path, os.environ['PATH'])"
   ]
  },
  {
   "cell_type": "code",
   "execution_count": 2,
   "metadata": {
    "collapsed": true
   },
   "outputs": [],
   "source": [
    "cls = KnnClassifier(k=5, alpha=20)"
   ]
  },
  {
   "cell_type": "markdown",
   "metadata": {},
   "source": [
    "# MNIST"
   ]
  },
  {
   "cell_type": "code",
   "execution_count": 3,
   "metadata": {
    "collapsed": true
   },
   "outputs": [],
   "source": [
    "def digshow(X, i):\n",
    "    return plt.imshow(X[i].reshape(28, 28))"
   ]
  },
  {
   "cell_type": "code",
   "execution_count": 4,
   "metadata": {},
   "outputs": [],
   "source": [
    "with open('../data/train.csv') as f:\n",
    "    lines = np.loadtxt(f, delimiter=',', skiprows=1, dtype=np.uint8)\n",
    "    X = lines[:,1:]\n",
    "    y = lines[:,0]\n",
    "    lines = None"
   ]
  },
  {
   "cell_type": "code",
   "execution_count": 5,
   "metadata": {
    "collapsed": true
   },
   "outputs": [],
   "source": [
    "with open('../data/test.csv') as f:\n",
    "    Xtest = np.loadtxt(f, delimiter=',', skiprows=1, dtype=np.uint8)"
   ]
  },
  {
   "cell_type": "code",
   "execution_count": 6,
   "metadata": {},
   "outputs": [
    {
     "data": {
      "text/plain": [
       "((42000, 784), (42000,), (28000, 784))"
      ]
     },
     "execution_count": 6,
     "metadata": {},
     "output_type": "execute_result"
    }
   ],
   "source": [
    "X.shape, y.shape, Xtest.shape"
   ]
  },
  {
   "cell_type": "code",
   "execution_count": 7,
   "metadata": {
    "collapsed": true
   },
   "outputs": [],
   "source": [
    "Xtest = Xtest[:3,:]"
   ]
  },
  {
   "cell_type": "code",
   "execution_count": 8,
   "metadata": {},
   "outputs": [
    {
     "data": {
      "text/plain": [
       "KnnClassifier(alpha=100, k=5, knn_path='knn')"
      ]
     },
     "execution_count": 8,
     "metadata": {},
     "output_type": "execute_result"
    }
   ],
   "source": [
    "cls = KnnClassifier(k=5, alpha=100)\n",
    "cls.fit(X, y)"
   ]
  },
  {
   "cell_type": "code",
   "execution_count": 9,
   "metadata": {},
   "outputs": [
    {
     "name": "stdout",
     "output_type": "stream",
     "text": [
      "stderr: Param PCA = 1\n",
      "Param K = 5\n",
      "Param ALPHA = 100\n",
      "Param N_ITER = 1000\n",
      "Leyendo dataset de /tmp/tmpwdhxm9k3... listo.\n",
      "Tamaño dataset: 42000\n",
      "Corriendo PCA... listo.\n",
      "Autovalores: 334780 245885 211052 184726 168070 147773 112535 99315.8 95014.9 80660.7 72089.9 70707.4 58464.9 58131.2 54295.9 50935.1 45317.6 44049.7 40795.3 39586 36819.2 34861.8 33135 31347 30482.2 28803 27879.2 26695.9 25434.1 23579.7 22595.6 21936.5 20582.1 20222.9 19379.6 18577.1 17487.1 16740.9 16331.1 16021.3 15554.3 15280.9 14362.8 13650.7 13205.1 12874.6 12397 11968.4 11555.1 11014.6 10833.4 10616.3 10085.6 9839.67 9640.95 9258.22 9129.18 8800.96 8717.02 8453.84 8230.7 8199.09 7815.62 7606.75 7346.66 7078.71 6966.41 6729.45 6649.31 6472.46 6413.7 6238.23 6074.16 5926.64 5705.04 5608.89 5515 5304.71 5042.71 4888.83 4844.99 4816.52 4767.56 4650.38 4543.36 4491.17 4452.83 4266.8 4197.36 4108.07 3978.15 3909.85 3854.81 3793.81 3713.06 3688.56 3566.32 3548.84 3484.75 3434.05 \n",
      "Transformando dataset... listo.\n",
      "\n",
      "stdout: ImageId,Label\n",
      "1,2\n",
      "2,0\n",
      "3,9\n",
      "\n"
     ]
    }
   ],
   "source": [
    "ytest = cls.predict(Xtest)"
   ]
  },
  {
   "cell_type": "code",
   "execution_count": 10,
   "metadata": {},
   "outputs": [
    {
     "data": {
      "text/plain": [
       "array([2, 0, 9], dtype=uint8)"
      ]
     },
     "execution_count": 10,
     "metadata": {},
     "output_type": "execute_result"
    }
   ],
   "source": [
    "ytest"
   ]
  },
  {
   "cell_type": "code",
   "execution_count": 11,
   "metadata": {},
   "outputs": [
    {
     "data": {
      "text/plain": [
       "<matplotlib.image.AxesImage at 0x7f1b76b9b128>"
      ]
     },
     "execution_count": 11,
     "metadata": {},
     "output_type": "execute_result"
    },
    {
     "data": {
      "image/png": "[encoded data removed]",
      "text/plain": [
       "<matplotlib.figure.Figure at 0x7f1ba82901d0>"
      ]
     },
     "metadata": {},
     "output_type": "display_data"
    }
   ],
   "source": [
    "digshow(Xtest, 0)"
   ]
  },
  {
   "cell_type": "code",
   "execution_count": 12,
   "metadata": {},
   "outputs": [
    {
     "data": {
      "text/plain": [
       "<matplotlib.image.AxesImage at 0x7f1b76c36be0>"
      ]
     },
     "execution_count": 12,
     "metadata": {},
     "output_type": "execute_result"
    },
    {
     "data": {
      "image/png": "[encoded data removed]",
      "text/plain": [
       "<matplotlib.figure.Figure at 0x7f1b76b7f748>"
      ]
     },
     "metadata": {},
     "output_type": "display_data"
    }
   ],
   "source": [
    "digshow(Xtest, 1)"
   ]
  },
  {
   "cell_type": "code",
   "execution_count": 13,
   "metadata": {},
   "outputs": [
    {
     "data": {
      "text/plain": [
       "<matplotlib.image.AxesImage at 0x7f1b76b1fcc0>"
      ]
     },
     "execution_count": 13,
     "metadata": {},
     "output_type": "execute_result"
    },
    {
     "data": {
      "image/png": "[encoded data removed]",
      "text/plain": [
       "<matplotlib.figure.Figure at 0x7f1b76bd6f28>"
      ]
     },
     "metadata": {},
     "output_type": "display_data"
    }
   ],
   "source": [
    "digshow(Xtest, 2)"
   ]
  }
 ],
 "metadata": {
  "kernelspec": {
   "display_name": "Python 3",
   "language": "python",
   "name": "python3"
  },
  "language_info": {
   "codemirror_mode": {
    "name": "ipython",
    "version": 3
   },
   "file_extension": ".py",
   "mimetype": "text/x-python",
   "name": "python",
   "nbconvert_exporter": "python",
   "pygments_lexer": "ipython3",
   "version": "3.5.2"
  }
 },
 "nbformat": 4,
 "nbformat_minor": 2
}
