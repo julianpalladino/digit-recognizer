{
 "cells": [
  {
   "cell_type": "code",
   "execution_count": 1,
   "metadata": {
    "collapsed": true
   },
   "outputs": [],
   "source": [
    "import numpy as np"
   ]
  },
  {
   "cell_type": "code",
   "execution_count": 2,
   "metadata": {
    "collapsed": true
   },
   "outputs": [],
   "source": [
    "d = \"0 0 0 0 0 0 0 0 0 0 0 0 0 0 0 0 0 0 0 0 0 0 0 0 0 0 0 0 0 0 0 0 0 0 0 0 0 0 0 0 0 0 0 0 0 0 0 0 0 0 0 0 0 0 0 0 0 0 0 0 0 0 0 0 0 0 0 0 0 0 0 0 0 0 0 0 0 0 0 0 0 0 0 0 0 0 0 0 0 0 0 0 0 0 0 0 0 0 0 0 0 0 0 0 0 0 0 0 0 0 0 0 0 0 0 0 0 0 0 0 0 0 10 17 17 17 17 81 180 180 35 0 0 0 0 0 0 0 0 0 0 0 0 0 0 0 0 0 0 0 139 253 253 253 253 253 253 253 48 0 0 0 0 0 0 0 0 0 0 0 0 0 0 0 0 0 0 60 228 253 253 253 253 253 253 253 207 197 46 0 0 0 0 0 0 0 0 0 0 0 0 0 0 0 0 213 253 253 253 253 253 253 253 253 253 253 223 52 0 0 0 0 0 0 0 0 0 0 0 0 0 0 0 66 231 253 253 253 108 40 40 115 244 253 253 134 3 0 0 0 0 0 0 0 0 0 0 0 0 0 0 0 63 114 114 114 37 0 0 0 205 253 253 253 15 0 0 0 0 0 0 0 0 0 0 0 0 0 0 0 0 0 0 0 0 0 0 0 57 253 253 253 15 0 0 0 0 0 0 0 0 0 0 0 0 0 0 0 0 0 0 0 0 0 0 0 42 253 253 253 15 0 0 0 0 0 0 0 0 0 0 0 0 0 0 0 0 0 0 0 0 0 0 0 95 253 253 253 15 0 0 0 0 0 0 0 0 0 0 0 0 0 0 0 0 0 0 0 0 0 0 0 205 253 253 253 15 0 0 0 0 0 0 0 0 0 0 0 0 0 0 0 0 0 61 99 96 0 0 45 224 253 253 195 10 0 0 0 0 0 0 0 0 0 0 0 11 25 105 83 189 189 228 253 251 189 189 218 253 253 210 27 0 0 0 0 0 0 0 0 0 0 42 116 173 253 253 253 253 253 253 253 253 253 253 253 253 253 221 116 7 0 0 0 0 0 0 0 0 0 118 253 253 253 253 245 212 222 253 253 253 253 253 253 253 253 253 253 160 15 0 0 0 0 0 0 0 0 254 253 253 253 189 99 0 32 202 253 253 253 240 122 122 190 253 253 253 174 0 0 0 0 0 0 0 0 255 253 253 253 238 222 222 222 241 253 253 230 70 0 0 17 175 229 253 253 0 0 0 0 0 0 0 0 158 253 253 253 253 253 253 253 253 205 106 65 0 0 0 0 0 62 244 157 0 0 0 0 0 0 0 0 6 26 179 179 179 179 179 30 15 10 0 0 0 0 0 0 0 0 14 6 0 0 0 0 0 0 0 0 0 0 0 0 0 0 0 0 0 0 0 0 0 0 0 0 0 0 0 0 0 0 0 0 0 0 0 0 0 0 0 0 0 0 0 0 0 0 0 0 0 0 0 0 0 0 0 0 0 0 0 0 0 0 0 0 0 0 0 0 0 0 0 0 0 0 0 0 0 0 0 0 0 0 0 0 0 0 0 0 0 0 0 0 0 0 0 0 0 0 0 0 0 0 0 0 0 0 0 0 0 0 0 0 0 0 0 0 0 0 0 0 0 0 0 0 0 0 0 0 0 0 0 0 0 0 0 0 0 0 0 0 0 0 0 0 0 0 0 0 0 0 0 0 0 0 0 0 0 0 0 0 0 0 0 0 0 0 0 0 0 0 0 0\""
   ]
  },
  {
   "cell_type": "code",
   "execution_count": 4,
   "metadata": {
    "collapsed": true
   },
   "outputs": [],
   "source": [
    "img = np.array([int(i) for i in d.split(\" \")]).reshape(28, 28)"
   ]
  },
  {
   "cell_type": "code",
   "execution_count": 9,
   "metadata": {
    "collapsed": true
   },
   "outputs": [],
   "source": [
    "from matplotlib import pyplot as plt\n",
    "%matplotlib inline"
   ]
  },
  {
   "cell_type": "code",
   "execution_count": 10,
   "metadata": {},
   "outputs": [
    {
     "data": {
      "text/plain": [
       "<matplotlib.image.AxesImage at 0x7f7ef17854a8>"
      ]
     },
     "execution_count": 10,
     "metadata": {},
     "output_type": "execute_result"
    },
    {
     "data": {
      "image/png": "[encoded data removed]",
      "text/plain": [
       "<matplotlib.figure.Figure at 0x7f7ef17e00b8>"
      ]
     },
     "metadata": {},
     "output_type": "display_data"
    }
   ],
   "source": [
    "plt.imshow(img)"
   ]
  },
  {
   "cell_type": "code",
   "execution_count": 14,
   "metadata": {
    "collapsed": true
   },
   "outputs": [],
   "source": [
    "def parse_digit(s):\n",
    "    return np.array([int(i) for i in s.split(\" \")]).reshape(28, 28)"
   ]
  },
  {
   "cell_type": "code",
   "execution_count": 15,
   "metadata": {},
   "outputs": [
    {
     "data": {
      "text/plain": [
       "<matplotlib.image.AxesImage at 0x7f7ef168aac8>"
      ]
     },
     "execution_count": 15,
     "metadata": {},
     "output_type": "execute_result"
    },
    {
     "data": {
      "image/png": "[encoded data removed]",
      "text/plain": [
       "<matplotlib.figure.Figure at 0x7f7ef1751ba8>"
      ]
     },
     "metadata": {},
     "output_type": "display_data"
    }
   ],
   "source": [
    "plt.imshow(parse_digit(\"0 0 0 0 0 0 0 0 0 0 0 0 0 0 0 0 0 0 0 0 0 0 0 0 0 0 0 0 0 0 0 0 0 0 0 0 0 0 0 0 0 0 0 0 0 0 0 0 0 0 0 0 0 0 0 0 0 0 0 0 0 0 0 0 0 0 0 0 0 0 0 0 0 0 0 0 0 0 0 0 0 0 0 0 0 0 0 0 0 0 0 0 0 0 0 13 80 175 242 205 93 11 0 0 0 0 0 0 0 0 0 0 0 0 0 0 0 0 0 0 0 0 10 171 254 253 253 253 254 214 30 0 0 0 0 0 0 0 0 0 0 0 0 0 0 0 0 0 0 0 126 253 249 134 134 212 254 253 182 0 0 0 0 0 0 0 0 0 0 0 0 0 0 0 0 0 0 0 136 253 90 0 0 6 133 253 249 18 0 0 0 0 0 0 0 0 0 0 0 0 0 0 0 0 0 0 0 25 0 0 0 0 20 218 254 133 0 0 0 0 0 0 0 0 0 0 0 0 0 0 0 0 0 0 0 0 0 0 0 0 47 226 253 193 0 0 0 0 0 0 0 0 0 0 0 0 0 0 0 0 0 13 12 0 0 0 0 0 5 208 253 109 0 0 0 0 0 0 0 0 0 0 0 0 0 0 0 0 0 0 19 30 0 0 0 0 20 253 235 43 0 0 0 0 0 0 0 0 0 0 0 0 0 0 0 0 0 0 0 0 14 133 157 122 230 254 159 0 0 0 0 0 0 0 0 0 0 0 0 0 0 0 0 0 0 0 0 0 122 253 253 253 254 187 9 0 0 0 0 0 0 0 0 0 0 0 0 0 0 0 0 0 0 0 0 0 45 204 253 253 254 178 0 0 0 0 0 0 0 0 0 0 0 0 0 0 0 0 0 0 0 0 0 0 0 9 104 247 254 250 108 0 0 0 0 0 0 0 0 0 0 0 0 0 0 0 0 0 0 0 0 0 0 0 0 73 255 254 218 14 0 0 0 0 0 0 0 0 0 0 0 0 0 0 0 0 0 0 0 0 0 0 0 0 145 253 253 110 0 0 0 0 0 0 0 0 0 0 0 0 0 0 0 0 0 0 0 19 114 158 12 0 20 253 253 109 0 0 0 0 0 0 0 0 0 0 0 0 0 0 0 0 0 13 121 234 242 28 0 0 20 253 253 97 0 0 0 0 0 0 0 0 0 0 0 0 0 0 0 0 38 194 254 248 49 0 17 68 206 254 231 36 0 0 0 0 0 0 0 0 0 0 0 0 0 0 0 37 194 253 253 235 196 195 244 253 254 247 93 0 0 0 0 0 0 0 0 0 0 0 0 0 0 0 0 79 254 253 253 253 254 253 253 253 207 75 0 0 0 0 0 0 0 0 0 0 0 0 0 0 0 0 0 6 128 211 253 253 224 175 157 97 6 0 0 0 0 0 0 0 0 0 0 0 0 0 0 0 0 0 0 0 0 0 0 0 0 0 0 0 0 0 0 0 0 0 0 0 0 0 0 0 0 0 0 0 0 0 0 0 0 0 0 0 0 0 0 0 0 0 0 0 0 0 0 0 0 0 0 0 0 0 0 0 0 0 0 0 0 0 0 0 0 0 0 0 0 0 0 0 0 0 0 0 0 0 0 0 0 0 0 0 0 0 0 0 0 0 0 0 0 0 0 0 0 0 0 0 0 0 0 0 0 0 0 0 0 0 0 0 0 0 0 0 0 0 0 0 0 0 0 0 0 0 0 0 0 0 0 0 0 0 0 0\"))"
   ]
  },
  {
   "cell_type": "code",
   "execution_count": 16,
   "metadata": {},
   "outputs": [
    {
     "data": {
      "text/plain": [
       "<matplotlib.image.AxesImage at 0x7f7ef15f0780>"
      ]
     },
     "execution_count": 16,
     "metadata": {},
     "output_type": "execute_result"
    },
    {
     "data": {
      "image/png": "[encoded data removed]",
      "text/plain": [
       "<matplotlib.figure.Figure at 0x7f7ef1629940>"
      ]
     },
     "metadata": {},
     "output_type": "display_data"
    }
   ],
   "source": [
    "plt.imshow(parse_digit(\"0 0 0 0 0 0 0 0 0 0 0 0 0 0 0 0 0 0 0 0 0 0 0 0 0 0 0 0 0 0 0 0 0 0 0 0 0 0 0 0 0 0 0 0 0 0 0 0 0 0 0 0 0 0 0 0 0 0 0 0 0 0 0 0 0 0 0 0 0 0 0 0 0 0 0 0 0 0 0 0 0 0 0 0 0 0 0 0 0 0 0 0 0 0 0 0 0 0 0 0 0 0 0 0 0 0 0 0 0 0 0 0 0 0 0 0 0 0 0 0 0 0 0 0 0 0 0 0 0 0 0 0 0 0 0 0 0 0 0 0 0 0 0 0 0 0 0 0 0 0 0 0 0 0 0 0 0 0 0 0 0 0 0 0 0 0 0 0 0 0 0 0 0 0 0 0 0 0 0 0 0 0 0 0 0 0 0 0 0 0 0 0 0 0 0 0 0 0 0 0 0 0 0 0 0 0 0 0 40 0 2 12 45 109 109 30 0 0 0 0 0 0 0 0 0 0 0 0 0 0 0 0 0 0 0 149 207 58 116 227 254 253 253 209 0 0 0 0 0 0 0 0 0 0 0 0 0 0 0 0 0 0 98 228 254 185 174 91 92 111 217 254 156 0 0 0 0 0 0 0 0 0 0 0 0 0 0 0 0 0 20 141 24 9 0 0 0 0 43 253 253 0 0 0 0 0 0 0 0 33 0 0 0 0 0 0 0 23 139 104 0 0 0 0 0 0 50 253 253 0 0 0 0 0 0 0 0 0 0 0 0 0 0 0 0 180 246 20 0 0 0 0 0 0 166 253 220 0 0 0 0 0 0 0 0 0 0 0 0 0 0 0 14 147 72 0 0 0 0 0 0 40 243 253 253 0 0 0 0 0 0 0 0 0 0 0 0 0 0 0 121 248 52 0 0 0 0 0 47 215 254 216 26 0 0 0 0 0 0 0 0 0 0 0 0 0 0 0 217 215 0 0 0 0 0 40 209 253 245 49 0 0 0 0 0 0 0 0 0 0 0 0 0 0 0 40 243 67 0 0 0 19 146 243 254 225 44 0 0 0 0 0 0 0 0 0 0 0 0 0 0 0 0 40 243 131 0 12 154 226 253 246 151 43 0 0 0 0 0 0 0 0 0 0 0 0 0 0 0 0 0 0 217 248 181 228 253 253 214 72 0 0 0 0 0 0 0 0 0 0 0 0 0 0 0 0 0 0 0 0 166 254 254 255 254 172 20 0 0 0 0 0 0 0 0 0 0 0 0 0 0 0 0 0 0 0 0 0 3 89 108 109 24 9 0 0 0 0 0 0 0 0 0 0 0 0 0 0 0 0 0 0 0 0 0 0 0 0 0 0 0 0 0 0 0 0 0 0 0 0 0 0 0 0 0 0 0 0 0 0 0 0 0 0 0 0 0 0 0 0 0 0 0 0 0 0 0 0 0 0 0 0 0 0 0 0 0 0 0 0 0 0 0 0 0 0 0 0 0 0 0 0 0 0 0 0 0 0 0 0 0 0 0 0 0 0 0 0 0 0 0 0 0 0 0 0 0 0 0 0 0 0 0 0 0 0 0 0 0 0 0 0 0 0 0 0 0 0 0 0 0 0 0 0 0 0 0 0 0 0 0 0 0 0 0 0 0 0 0 0 0 0 0 0 0 0 0 0 0 0 0 0 0 0 0 0 0 0 0 0 0 0 0 0 0 0 0 0 0 0 0 0 0 0 0 0 0 0 0 0 0 0 0 0 0 0 0 0 0 0 0 0 0 0\"))"
   ]
  },
  {
   "cell_type": "code",
   "execution_count": 17,
   "metadata": {},
   "outputs": [
    {
     "data": {
      "text/plain": [
       "<matplotlib.image.AxesImage at 0x7f7ef1551f98>"
      ]
     },
     "execution_count": 17,
     "metadata": {},
     "output_type": "execute_result"
    },
    {
     "data": {
      "image/png": "[encoded data removed]",
      "text/plain": [
       "<matplotlib.figure.Figure at 0x7f7ef1600320>"
      ]
     },
     "metadata": {},
     "output_type": "display_data"
    }
   ],
   "source": [
    "plt.imshow(parse_digit(\"0 0 0 0 0 0 0 0 0 0 0 0 0 0 0 0 0 0 0 0 0 0 0 0 0 0 0 0 0 0 0 0 0 0 0 0 0 0 0 0 0 0 0 0 0 0 0 0 0 0 0 0 0 0 0 0 0 0 0 0 0 0 0 0 0 0 0 0 0 0 0 0 0 0 0 0 0 0 0 0 0 0 0 0 0 0 0 0 0 0 0 0 0 0 0 0 0 0 0 0 0 0 0 0 0 0 0 0 0 0 0 0 0 0 0 0 0 0 0 0 0 0 0 0 0 0 0 0 0 0 0 0 0 0 0 0 0 0 0 0 0 0 0 0 0 0 0 0 0 0 0 0 0 0 0 0 0 0 0 0 0 0 0 0 0 0 0 0 0 0 0 0 0 0 0 0 0 0 0 0 0 6 100 213 254 245 255 149 17 0 0 0 0 0 0 0 0 0 0 0 0 0 0 0 0 0 0 0 26 181 233 102 40 29 102 166 187 0 0 0 0 0 0 0 0 0 0 0 0 0 0 0 0 0 0 57 236 181 35 0 0 0 0 12 207 13 0 0 0 0 0 0 0 0 0 0 0 0 0 0 0 0 27 228 187 0 0 0 0 0 0 96 225 9 0 0 0 0 0 0 0 0 0 0 0 0 0 0 0 0 167 230 18 0 0 0 0 0 74 242 106 0 0 0 0 0 0 0 0 0 0 0 0 0 0 0 0 83 247 60 0 0 0 0 0 67 232 102 0 0 0 0 0 0 0 0 0 0 0 0 0 0 0 0 0 133 211 0 0 0 0 16 127 225 165 4 0 0 0 0 0 0 0 0 0 0 0 0 0 0 0 0 0 133 217 0 15 58 140 189 181 227 24 0 0 0 0 0 0 0 0 0 0 0 0 0 0 0 0 0 0 71 246 225 235 253 182 61 231 85 0 0 0 0 0 0 0 0 0 0 0 0 0 0 0 0 0 0 0 0 73 143 119 58 1 153 212 2 0 0 0 0 0 0 0 0 0 0 0 0 0 0 0 0 0 0 0 0 0 0 0 0 88 254 69 0 0 0 0 0 0 0 0 0 0 0 0 0 0 0 0 0 0 0 0 0 0 0 0 40 244 157 1 0 0 0 0 0 0 0 0 0 0 0 0 0 0 0 0 0 0 0 0 0 0 0 6 212 211 12 0 0 0 0 0 0 0 0 0 0 0 0 0 0 0 0 0 0 0 0 0 0 0 0 95 237 46 0 0 0 0 0 0 0 0 0 0 0 0 0 0 0 0 0 0 0 0 0 0 0 0 43 243 156 0 0 0 0 0 0 0 0 0 0 0 0 0 0 0 0 0 0 0 0 0 0 0 0 11 213 213 5 0 0 0 0 0 6 8 0 0 0 0 0 0 0 0 0 0 0 0 0 0 0 0 0 163 244 35 0 0 0 0 0 0 139 208 97 12 0 0 0 0 0 0 0 0 0 0 0 0 0 0 60 248 90 0 0 0 0 0 0 0 16 136 172 168 0 0 0 0 0 0 0 0 0 0 0 0 0 5 195 147 0 0 0 0 0 0 0 0 0 0 0 0 0 0 0 0 0 0 0 0 0 0 0 0 0 26 237 41 0 0 0 0 0 0 0 0 0 0 0 0 0 0 0 0 0 0 0 0 0 0 0 0 0 0 0 0 0 0 0 0 0 0 0 0 0 0 0 0 0 0 0 0 0 0 0 0 0 0 0 0 0 0 0 0 0 0 0 0 0 0 0 0 0 0 0 0 0 0 0 0 0\"))"
   ]
  },
  {
   "cell_type": "code",
   "execution_count": null,
   "metadata": {
    "collapsed": true
   },
   "outputs": [],
   "source": []
  }
 ],
 "metadata": {
  "kernelspec": {
   "display_name": "Python 3",
   "language": "python",
   "name": "python3"
  },
  "language_info": {
   "codemirror_mode": {
    "name": "ipython",
    "version": 3
   },
   "file_extension": ".py",
   "mimetype": "text/x-python",
   "name": "python",
   "nbconvert_exporter": "python",
   "pygments_lexer": "ipython3",
   "version": "3.5.2"
  }
 },
 "nbformat": 4,
 "nbformat_minor": 2
}
